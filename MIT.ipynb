{
 "cells": [
  {
   "cell_type": "markdown",
   "metadata": {},
   "source": [
    "# MIT Video Extractor"
   ]
  },
  {
   "cell_type": "code",
   "execution_count": 88,
   "metadata": {},
   "outputs": [],
   "source": [
    "link_to_course=\"https://ocw.mit.edu/courses/res-6-007-signals-and-systems-spring-2011/\""
   ]
  },
  {
   "cell_type": "markdown",
   "metadata": {},
   "source": [
    "## Imports"
   ]
  },
  {
   "cell_type": "code",
   "execution_count": 89,
   "metadata": {},
   "outputs": [],
   "source": [
    "from selenium import webdriver as webdriver\n",
    "from selenium.webdriver.firefox.service import Service\n",
    "from selenium.webdriver.firefox.options import Options\n",
    "from selenium.webdriver.common.by import By\n",
    "from selenium.webdriver.common.keys import Keys\n",
    "# from selenium.webdriver.common.by import By\n",
    "from selenium.webdriver.support.ui import WebDriverWait\n",
    "from selenium.webdriver.support import expected_conditions as EC\n",
    "import time,os"
   ]
  },
  {
   "cell_type": "markdown",
   "metadata": {},
   "source": [
    "## Initiate Browser"
   ]
  },
  {
   "cell_type": "code",
   "execution_count": 96,
   "metadata": {},
   "outputs": [],
   "source": [
    "user_agent=\"Mozilla/5.0 (X11; Ubuntu; Linux x86_64; rv:109.0) Gecko/20100101 Firefox/117.0\"\n",
    "firefox_driver=(\"./geckodriver\")\n",
    "firefox_service=Service(firefox_driver)\n",
    "firefox_options=Options()\n",
    "firefox_options.headless=True\n",
    "firefox_options.set_preference('general.useragent.override',user_agent)\n",
    "browser=webdriver.Firefox(service=firefox_service,options=firefox_options)\n",
    "browser.get(link_to_course)\n",
    "#Download Course button\n",
    "browser.find_element(By.CSS_SELECTOR,\"#course-main-content > div.row.course-cards > div.col-12.col-md-4.col-lg-3.mb-3.mb-md-0.course-home-grid > div > div > div > div:nth-child(2) > div > a\").click()\n"
   ]
  },
  {
   "cell_type": "markdown",
   "metadata": {},
   "source": [
    "### Videos"
   ]
  },
  {
   "cell_type": "code",
   "execution_count": 156,
   "metadata": {},
   "outputs": [],
   "source": [
    "#See all videos\n",
    "# browser.find_element(By.XPATH,\"/html/body/div[1]/div[6]/div[2]/div[2]/div/div/div/div[1]/div/div[2]/div[1]/div[2]/div[11]/div/div/a\").click()\n",
    "#List of all downloadable files \n",
    "b=browser.find_elements(By.XPATH,\"//a[@class='resource-list-title']\")\n",
    "\n",
    "#List of Download link\n",
    "c=browser.find_elements(By.XPATH,\"//a[@download='']\")\n",
    "# browser.close()"
   ]
  },
  {
   "cell_type": "markdown",
   "metadata": {},
   "source": [
    "### Link Extraction"
   ]
  },
  {
   "cell_type": "code",
   "execution_count": 163,
   "metadata": {},
   "outputs": [],
   "source": [
    "s=\"\"\n",
    "d=\"\"\n",
    "dictionary={}\n",
    "for o in range(len(b)):\n",
    "    i=b[o]\n",
    "    k=c[o]\n",
    "    dictionary.update({i.accessible_name:k.get_attribute('href')})\n",
    "    s+=i.accessible_name\n",
    "    s+=\"\\n\"\n",
    "    d+=k.get_attribute('href')\n",
    "    d+=\"\\n\"\n",
    "    s+=k.get_attribute('href')\n",
    "    s+=\"\\n\\n\"\n",
    "i=open(\"Signal_link.txt\",\"w+\")\n",
    "i.write(s)\n",
    "i.close()\n",
    "i=open(\"Signal_merged.txt\",\"w+\")\n",
    "i.write(d)\n",
    "i.close()"
   ]
  },
  {
   "cell_type": "markdown",
   "metadata": {},
   "source": [
    "## Final Result"
   ]
  },
  {
   "cell_type": "code",
   "execution_count": 164,
   "metadata": {},
   "outputs": [
    {
     "data": {
      "text/plain": [
       "{'Lecture 1: Introduction': 'http://archive.org/download/MITRES.6.007S11/MITRES_6-007S11lec01_300k.mp4',\n",
       " 'Lecture 2: Signals and Systems: Part I': 'http://www.archive.org/download/MITRES.6.007S11/MITRES_6-007S11lec02_300k.mp4',\n",
       " 'Lecture 3: Signals and Systems: Part II': 'http://www.archive.org/download/MITRES.6.007S11/MITRES_6-007S11lec03_300k.mp4',\n",
       " 'Lecture 4: Convolution': 'http://www.archive.org/download/MITRES.6.007S11/MITRES_6-007S11lec04_300k.mp4',\n",
       " 'Lecture 5: Properties of Linear, Time-Invariant Systems': 'http://archive.org/download/MITRES.6.007S11/MITRES_6-007S11lec05_300k.mp4',\n",
       " 'Lecture 6: Systems Represented by Differential Equations': 'http://www.archive.org/download/MITRES.6.007S11/MITRES_6-007S11lec06_300k.mp4',\n",
       " 'Lecture 7: Continuous-Time Fourier Series': 'http://www.archive.org/download/MITRES.6.007S11/MITRES_6-007S11lec07_300k.mp4',\n",
       " 'Lecture 8: Continuous-Time Fourier Transform': 'http://www.archive.org/download/MITRES.6.007S11/MITRES_6-007S11lec08_300k.mp4',\n",
       " 'Lecture 9: Fourier Transform Properties': 'http://www.archive.org/download/MITRES.6.007S11/MITRES_6-007S11lec09_300k.mp4',\n",
       " 'Lecture 10: Discrete-Time Fourier Series': 'http://www.archive.org/download/MITRES.6.007S11/MITRES_6-007S11lec10_300k.mp4',\n",
       " 'Lecture 11: Discrete-Time Fourier Transform': 'http://www.archive.org/download/MITRES.6.007S11/MITRES_6-007S11lec11_300k.mp4',\n",
       " 'Lecture 12: Filtering': 'http://www.archive.org/download/MITRES.6.007S11/MITRES_6-007S11lec12_300k.mp4',\n",
       " 'Lecture 13: Continuous-Time Modulation': 'http://www.archive.org/download/MITRES.6.007S11/MITRES_6-007S11lec13_300k.mp4',\n",
       " 'Lecture 14: Demonstration of Amplitude Modulation': 'http://www.archive.org/download/MITRES.6.007S11/MITRES_6-007S11lec14_300k.mp4',\n",
       " 'Lecture 15: Discrete-Time Modulation': 'http://www.archive.org/download/MITRES.6.007S11/MITRES_6-007S11lec15_300k.mp4',\n",
       " 'Lecture 16: Sampling': 'http://www.archive.org/download/MITRES.6.007S11/MITRES_6-007S11lec16_300k.mp4',\n",
       " 'Lecture 17: Interpolation': 'http://www.archive.org/download/MITRES.6.007S11/MITRES_6-007S11lec17_300k.mp4',\n",
       " 'Lecture 18: Discrete-Time Processing of Continuous-Time Signals': 'http://archive.org/download/MITRES.6.007S11/MITRES_6-007S11lec18_300k.mp4',\n",
       " 'Lecture 19: Discrete-Time Sampling': 'http://www.archive.org/download/MITRES.6.007S11/MITRES_6-007S11lec19_300k.mp4',\n",
       " 'Lecture 20: The Laplace Transform': 'http://www.archive.org/download/MITRES.6.007S11/MITRES_6-007S11lec20_300k.mp4',\n",
       " 'Lecture 21: Continuous-Time Second-Order Systems': 'http://www.archive.org/download/MITRES.6.007S11/MITRES_6-007S11lec21_300k.mp4',\n",
       " 'Lecture 22: The z-Transform': 'http://www.archive.org/download/MITRES.6.007S11/MITRES_6-007S11lec22_300k.mp4',\n",
       " 'Lecture 23: Mapping Continuous-Time Filters to Discrete-Time Filters': 'http://www.archive.org/download/MITRES.6.007S11/MITRES_6-007S11lec23_300k.mp4',\n",
       " 'Lecture 24: Butterworth Filters': 'http://www.archive.org/download/MITRES.6.007S11/MITRES_6-007S11lec24_300k.mp4',\n",
       " 'Lecture 25: Feedback': 'http://www.archive.org/download/MITRES.6.007S11/MITRES_6-007S11lec25_300k.mp4',\n",
       " 'Lecture 26: Feedback Example: The Inverted Pendulum': 'http://www.archive.org/download/MITRES.6.007S11/MITRES_6-007S11lec26_300k.mp4'}"
      ]
     },
     "execution_count": 164,
     "metadata": {},
     "output_type": "execute_result"
    }
   ],
   "source": [
    "dictionary"
   ]
  },
  {
   "cell_type": "markdown",
   "metadata": {},
   "source": [
    "## Downloader"
   ]
  },
  {
   "cell_type": "code",
   "execution_count": 171,
   "metadata": {},
   "outputs": [],
   "source": [
    "import requests\n",
    "\n",
    "def download_video(url, filename):\n",
    "    r = requests.get(url,allow_redirects=True)\n",
    "    print(r)\n",
    "    with open(filename, 'wb') as f:\n",
    "        f.write(r.content)\n",
    "\n",
    "# replace 'url' and 'filename'\n",
    "# download_video(\"https://ia800703.us.archive.org/24/items/MITRES.6.007S11/MITRES_6-007S11lec26_300k.mp4\", 'video.mp4')"
   ]
  },
  {
   "cell_type": "code",
   "execution_count": 167,
   "metadata": {},
   "outputs": [
    {
     "data": {
      "text/plain": [
       "'http://archive.org/download/MITRES.6.007S11/MITRES_6-007S11lec01_300k.mp4\\n'"
      ]
     },
     "execution_count": 167,
     "metadata": {},
     "output_type": "execute_result"
    }
   ],
   "source": [
    "i=open(\"Signal_link.txt\",\"r+\")\n",
    "import requests"
   ]
  },
  {
   "cell_type": "code",
   "execution_count": 121,
   "metadata": {},
   "outputs": [
    {
     "name": "stdout",
     "output_type": "stream",
     "text": [
      "Lecture 1: Introduction\n",
      "\n",
      "http://archive.org/download/MITRES.6.007S11/MITRES_6-007S11lec01_300k.mp4\n",
      "\n",
      "\n",
      "\n",
      "Lecture 2: Signals and Systems: Part I\n",
      "\n",
      "http://archive.org/download/MITRES.6.007S11/MITRES_6-007S11lec01_300k.mp4\n",
      "\n",
      "\n",
      "\n",
      "Lecture 3: Signals and Systems: Part II\n",
      "\n",
      "http://archive.org/download/MITRES.6.007S11/MITRES_6-007S11lec01_300k.mp4\n",
      "\n",
      "\n",
      "\n",
      "Lecture 4: Convolution\n",
      "\n",
      "http://archive.org/download/MITRES.6.007S11/MITRES_6-007S11lec01_300k.mp4\n",
      "\n",
      "\n",
      "\n",
      "Lecture 5: Properties of Linear, Time-Invariant Systems\n",
      "\n",
      "http://archive.org/download/MITRES.6.007S11/MITRES_6-007S11lec01_300k.mp4\n",
      "\n",
      "\n",
      "\n",
      "Lecture 6: Systems Represented by Differential Equations\n",
      "\n",
      "http://archive.org/download/MITRES.6.007S11/MITRES_6-007S11lec01_300k.mp4\n",
      "\n",
      "\n",
      "\n",
      "Lecture 7: Continuous-Time Fourier Series\n",
      "\n",
      "http://archive.org/download/MITRES.6.007S11/MITRES_6-007S11lec01_300k.mp4\n",
      "\n",
      "\n",
      "\n",
      "Lecture 8: Continuous-Time Fourier Transform\n",
      "\n",
      "http://archive.org/download/MITRES.6.007S11/MITRES_6-007S11lec01_300k.mp4\n",
      "\n",
      "\n",
      "\n",
      "Lecture 9: Fourier Transform Properties\n",
      "\n",
      "http://archive.org/download/MITRES.6.007S11/MITRES_6-007S11lec01_300k.mp4\n",
      "\n",
      "\n",
      "\n",
      "Lecture 10: Discrete-Time Fourier Series\n",
      "\n",
      "http://archive.org/download/MITRES.6.007S11/MITRES_6-007S11lec01_300k.mp4\n",
      "\n",
      "\n",
      "\n",
      "Lecture 11: Discrete-Time Fourier Transform\n",
      "\n",
      "http://archive.org/download/MITRES.6.007S11/MITRES_6-007S11lec01_300k.mp4\n",
      "\n",
      "\n",
      "\n",
      "Lecture 12: Filtering\n",
      "\n",
      "http://archive.org/download/MITRES.6.007S11/MITRES_6-007S11lec01_300k.mp4\n",
      "\n",
      "\n",
      "\n",
      "Lecture 13: Continuous-Time Modulation\n",
      "\n",
      "http://archive.org/download/MITRES.6.007S11/MITRES_6-007S11lec01_300k.mp4\n",
      "\n",
      "\n",
      "\n",
      "Lecture 14: Demonstration of Amplitude Modulation\n",
      "\n",
      "http://archive.org/download/MITRES.6.007S11/MITRES_6-007S11lec01_300k.mp4\n",
      "\n",
      "\n",
      "\n",
      "Lecture 15: Discrete-Time Modulation\n",
      "\n",
      "http://archive.org/download/MITRES.6.007S11/MITRES_6-007S11lec01_300k.mp4\n",
      "\n",
      "\n",
      "\n",
      "Lecture 16: Sampling\n",
      "\n",
      "http://archive.org/download/MITRES.6.007S11/MITRES_6-007S11lec01_300k.mp4\n",
      "\n",
      "\n",
      "\n",
      "Lecture 17: Interpolation\n",
      "\n",
      "http://archive.org/download/MITRES.6.007S11/MITRES_6-007S11lec01_300k.mp4\n",
      "\n",
      "\n",
      "\n",
      "Lecture 18: Discrete-Time Processing of Continuous-Time Signals\n",
      "\n",
      "http://archive.org/download/MITRES.6.007S11/MITRES_6-007S11lec01_300k.mp4\n",
      "\n",
      "\n",
      "\n",
      "Lecture 19: Discrete-Time Sampling\n",
      "\n",
      "http://archive.org/download/MITRES.6.007S11/MITRES_6-007S11lec01_300k.mp4\n",
      "\n",
      "\n",
      "\n",
      "Lecture 20: The Laplace Transform\n",
      "\n",
      "http://archive.org/download/MITRES.6.007S11/MITRES_6-007S11lec01_300k.mp4\n",
      "\n",
      "\n",
      "\n",
      "Lecture 21: Continuous-Time Second-Order Systems\n",
      "\n",
      "http://archive.org/download/MITRES.6.007S11/MITRES_6-007S11lec01_300k.mp4\n",
      "\n",
      "\n",
      "\n",
      "Lecture 22: The z-Transform\n",
      "\n",
      "http://archive.org/download/MITRES.6.007S11/MITRES_6-007S11lec01_300k.mp4\n",
      "\n",
      "\n",
      "\n",
      "Lecture 23: Mapping Continuous-Time Filters to Discrete-Time Filters\n",
      "\n",
      "http://archive.org/download/MITRES.6.007S11/MITRES_6-007S11lec01_300k.mp4\n",
      "\n",
      "\n",
      "\n",
      "Lecture 24: Butterworth Filters\n",
      "\n",
      "http://archive.org/download/MITRES.6.007S11/MITRES_6-007S11lec01_300k.mp4\n",
      "\n",
      "\n",
      "\n",
      "Lecture 25: Feedback\n",
      "\n",
      "http://archive.org/download/MITRES.6.007S11/MITRES_6-007S11lec01_300k.mp4\n",
      "\n",
      "\n",
      "\n",
      "Lecture 26: Feedback Example: The Inverted Pendulum\n",
      "\n",
      "http://archive.org/download/MITRES.6.007S11/MITRES_6-007S11lec01_300k.mp4\n",
      "\n",
      "\n",
      "\n"
     ]
    }
   ],
   "source": [
    "s=\"\"\n",
    "for j in i.readlines():\n",
    "    if(str(j).startswith(\"L\")):\n",
    "        s=j\n",
    "        print(s)\n",
    "    elif(str(j).startswith(\"http\")):\n",
    "        r=requests.get(j, allow_redirects=True)\n",
    "        print(r)\n",
    "        open(\"./Signals/{}\".format(s), 'wb').write(r.content)\n",
    "        s=\"\"\n",
    "\n",
    "import shutil\n",
    "\n",
    "\n",
    "shutil.make_archive(\"Signal_Systems_MIT\", 'zip', \"Signals\")"
   ]
  }
 ],
 "metadata": {
  "kernelspec": {
   "display_name": "Python 3",
   "language": "python",
   "name": "python3"
  },
  "language_info": {
   "codemirror_mode": {
    "name": "ipython",
    "version": 3
   },
   "file_extension": ".py",
   "mimetype": "text/x-python",
   "name": "python",
   "nbconvert_exporter": "python",
   "pygments_lexer": "ipython3",
   "version": "3.10.12"
  },
  "orig_nbformat": 4
 },
 "nbformat": 4,
 "nbformat_minor": 2
}
